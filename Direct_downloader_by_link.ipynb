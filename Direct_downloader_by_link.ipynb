{
  "nbformat": 4,
  "nbformat_minor": 0,
  "metadata": {
    "colab": {
      "provenance": [],
      "include_colab_link": true
    },
    "kernelspec": {
      "name": "python3",
      "display_name": "Python 3"
    },
    "language_info": {
      "name": "python"
    }
  },
  "cells": [
    {
      "cell_type": "markdown",
      "metadata": {
        "id": "view-in-github",
        "colab_type": "text"
      },
      "source": [
        "<a href=\"https://colab.research.google.com/github/kirula0626/Google-Colab/blob/main/Direct_downloader_by_link.ipynb\" target=\"_parent\"><img src=\"https://colab.research.google.com/assets/colab-badge.svg\" alt=\"Open In Colab\"/></a>"
      ]
    },
    {
      "cell_type": "code",
      "source": [
        "from google.colab import drive\n",
        "drive.mount('/content/drive')"
      ],
      "metadata": {
        "colab": {
          "base_uri": "https://localhost:8080/"
        },
        "id": "uFke0PUagP4p",
        "outputId": "7bfa29fa-9ef6-4c59-8cc6-1f537708924a"
      },
      "execution_count": 11,
      "outputs": [
        {
          "output_type": "stream",
          "name": "stdout",
          "text": [
            "Drive already mounted at /content/drive; to attempt to forcibly remount, call drive.mount(\"/content/drive\", force_remount=True).\n"
          ]
        }
      ]
    },
    {
      "cell_type": "code",
      "source": [
        "!wget \"https://download.jetbrains.com/python/pycharm-community-2023.2.1.exe"
      ],
      "metadata": {
        "colab": {
          "base_uri": "https://localhost:8080/"
        },
        "id": "ewXPecQngUlq",
        "outputId": "f958e5fe-1ea7-4134-952c-383d56fa867b"
      },
      "execution_count": 12,
      "outputs": [
        {
          "output_type": "stream",
          "name": "stdout",
          "text": [
            "/bin/bash: -c: line 1: unexpected EOF while looking for matching `\"'\n",
            "/bin/bash: -c: line 2: syntax error: unexpected end of file\n"
          ]
        }
      ]
    },
    {
      "cell_type": "code",
      "source": [
        "!cp pycharm \"/content/drive/My Drive\""
      ],
      "metadata": {
        "id": "hL41sFQDgnoe",
        "colab": {
          "base_uri": "https://localhost:8080/"
        },
        "outputId": "0ce03930-3353-470b-dd15-a95afa8de18c"
      },
      "execution_count": 13,
      "outputs": [
        {
          "output_type": "stream",
          "name": "stdout",
          "text": [
            "cp: cannot stat 'pycharm': No such file or directory\n"
          ]
        }
      ]
    },
    {
      "cell_type": "code",
      "source": [
        "!ls"
      ],
      "metadata": {
        "colab": {
          "base_uri": "https://localhost:8080/"
        },
        "id": "XudbWNF-IZOm",
        "outputId": "0595e73b-6093-4c7a-b4bd-9286a8b236f3"
      },
      "execution_count": 14,
      "outputs": [
        {
          "output_type": "stream",
          "name": "stdout",
          "text": [
            "drive  sample_data\n"
          ]
        }
      ]
    },
    {
      "cell_type": "code",
      "source": [
        "!mv \"pycharm-community-2023.2.1.exe?_ga=2.262289676.1655093217.1693027089-1695056055.1688464613&_gl=1*10x8wkj*_ga*MTY5NTA1NjA1NS4xNjg4NDY0NjEz*_ga_9J976DJZ68*MTY5MzA0MzE4OS4xMC4xLjE2OTMwNDMzMDkuMC4wLjA.\" pycharm"
      ],
      "metadata": {
        "id": "qSu22XwHQzsW",
        "colab": {
          "base_uri": "https://localhost:8080/"
        },
        "outputId": "5f51c9bf-0890-426f-8e0c-bdaf6d59cdcc"
      },
      "execution_count": 15,
      "outputs": [
        {
          "output_type": "stream",
          "name": "stdout",
          "text": [
            "mv: cannot stat 'pycharm-community-2023.2.1.exe?_ga=2.262289676.1655093217.1693027089-1695056055.1688464613&_gl=1*10x8wkj*_ga*MTY5NTA1NjA1NS4xNjg4NDY0NjEz*_ga_9J976DJZ68*MTY5MzA0MzE4OS4xMC4xLjE2OTMwNDMzMDkuMC4wLjA.': No such file or directory\n"
          ]
        }
      ]
    }
  ]
}