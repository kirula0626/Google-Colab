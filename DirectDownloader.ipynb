{
  "nbformat": 4,
  "nbformat_minor": 0,
  "metadata": {
    "colab": {
      "provenance": [],
      "authorship_tag": "ABX9TyMK1u3ZnXGB7mY2F3JazK9L",
      "include_colab_link": true
    },
    "kernelspec": {
      "name": "python3",
      "display_name": "Python 3"
    },
    "language_info": {
      "name": "python"
    }
  },
  "cells": [
    {
      "cell_type": "markdown",
      "metadata": {
        "id": "view-in-github",
        "colab_type": "text"
      },
      "source": [
        "<a href=\"https://colab.research.google.com/github/kirula0626/Google-Colab/blob/main/DirectDownloader.ipynb\" target=\"_parent\"><img src=\"https://colab.research.google.com/assets/colab-badge.svg\" alt=\"Open In Colab\"/></a>"
      ]
    },
    {
      "cell_type": "code",
      "execution_count": 1,
      "metadata": {
        "colab": {
          "base_uri": "https://localhost:8080/"
        },
        "id": "T5zBWrQh-64W",
        "outputId": "a4e8cc98-7b51-4289-f722-f8b1a8f132db"
      },
      "outputs": [
        {
          "output_type": "stream",
          "name": "stdout",
          "text": [
            "Mounted at /content/drive\n"
          ]
        }
      ],
      "source": [
        "from google.colab import drive\n",
        "drive.mount('/content/drive', force_remount = True)"
      ]
    },
    {
      "cell_type": "code",
      "source": [
        "!wget -O '/content/drive/My Drive/kali-linux-2023.3-installer-amd64.iso' \"https://kali.cs.nycu.edu.tw/kali-images/kali-2023.3/kali-linux-2023.3-installer-amd64.iso\""
      ],
      "metadata": {
        "colab": {
          "base_uri": "https://localhost:8080/"
        },
        "id": "xqvGolG1--md",
        "outputId": "c6f52beb-66ae-4a68-e5ad-ac6ee9a70bfa"
      },
      "execution_count": 2,
      "outputs": [
        {
          "output_type": "stream",
          "name": "stdout",
          "text": [
            "--2023-09-01 04:26:29--  https://kali.cs.nycu.edu.tw/kali-images/kali-2023.3/kali-linux-2023.3-installer-amd64.iso\n",
            "Resolving kali.cs.nycu.edu.tw (kali.cs.nycu.edu.tw)... 140.113.17.5\n",
            "Connecting to kali.cs.nycu.edu.tw (kali.cs.nycu.edu.tw)|140.113.17.5|:443... connected.\n",
            "HTTP request sent, awaiting response... 200 OK\n",
            "Length: 4194304000 (3.9G) [application/octet-stream]\n",
            "Saving to: ‘/content/drive/My Drive/kali-linux-2023.3-installer-amd64.iso’\n",
            "\n",
            "rive/My Drive/kali-   0%[                    ]  15.79M   800KB/s    eta 88m 27s^C\n"
          ]
        }
      ]
    }
  ]
}